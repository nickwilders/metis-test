{
    "cells": [
        {
            "metadata": {},
            "cell_type": "code",
            "source": "def create_divisors_dict(divisors, lower, upper):\n    dict = {}\n    my_range = range(lower, upper + 1)\n    for i in my_range:\n        for n in divisors:\n            if dict.get(n) == None:\n                if i % n == 0:\n                    dict[n] = []\n                    dict[n].append(i)\n                else:\n                    dict[n] = []\n            elif i % n == 0:\n                dict[n].append(i)\n            else:\n                pass\n\n    return dict\n\nprint(create_divisors_dict([1,2,8], 2, 7))",
            "execution_count": 1,
            "outputs": [
                {
                    "output_type": "stream",
                    "text": "{1: [2, 3, 4, 5, 6, 7], 2: [2, 4, 6], 8: []}\n",
                    "name": "stdout"
                }
            ]
        },
        {
            "metadata": {},
            "cell_type": "code",
            "source": "",
            "execution_count": null,
            "outputs": []
        }
    ],
    "metadata": {
        "kernelspec": {
            "name": "python3",
            "display_name": "Python 3.6",
            "language": "python"
        },
        "language_info": {
            "name": "python",
            "version": "3.6.9",
            "mimetype": "text/x-python",
            "codemirror_mode": {
                "name": "ipython",
                "version": 3
            },
            "pygments_lexer": "ipython3",
            "nbconvert_exporter": "python",
            "file_extension": ".py"
        }
    },
    "nbformat": 4,
    "nbformat_minor": 1
}